{
 "cells": [
  {
   "cell_type": "code",
   "execution_count": 1,
   "id": "18a8c14e",
   "metadata": {},
   "outputs": [],
   "source": [
    "import numpy as np\n",
    "import matplotlib.pyplot as plt"
   ]
  },
  {
   "cell_type": "code",
   "execution_count": 2,
   "id": "733f7fdf",
   "metadata": {},
   "outputs": [],
   "source": [
    "def hamming_dist(hash_a, hash_b):\n",
    "    return np.count_nonzero(hash_a != hash_b)"
   ]
  },
  {
   "cell_type": "code",
   "execution_count": 3,
   "id": "8f762b18",
   "metadata": {},
   "outputs": [
    {
     "name": "stdout",
     "output_type": "stream",
     "text": [
      "(110, 128)\n",
      "(110, 400, 128)\n"
     ]
    }
   ],
   "source": [
    "or_im = np.load('output/data/original.npy')\n",
    "mod_im = np.load('output/data/modified.npy')\n",
    "\n",
    "or_im_hashes = np.load('output/hashes/original.npy').squeeze(axis=1)\n",
    "mod_im_hashes = np.load('output/hashes/modified.npy').squeeze(axis=2)\n",
    "\n",
    "print(or_im_hashes.shape)\n",
    "print(mod_im_hashes.shape)"
   ]
  },
  {
   "cell_type": "code",
   "execution_count": 12,
   "id": "b25760b8",
   "metadata": {},
   "outputs": [
    {
     "name": "stdout",
     "output_type": "stream",
     "text": [
      "3.78 2.7021472942828266\n",
      "38.77981651376147 20.43039550563795\n",
      "---\n",
      "[3, 3, 3, 2, 3, 3, 4, 3, 2, 7, 3, 2, 3, 2, 2, 2, 3, 4, 3, 4, 2, 2, 3, 7, 3, 3, 4, 2, 7, 1, 2, 3, 2, 3, 3, 4, 2, 3, 3, 3, 3, 1, 2, 2, 2, 3, 10, 2, 3, 3, 11, 1, 2, 2, 3, 3, 3, 5, 3, 4, 2, 3, 3, 4, 3, 3, 3, 4, 2, 3, 3, 3, 3, 5, 2, 2, 4, 3, 2, 2, 4, 3, 2, 4, 2, 3, 3, 3, 3, 2, 2, 2, 3, 3, 3, 2, 4, 4, 3, 4, 3, 5, 3, 5, 3, 3, 0, 5, 3, 3, 5, 0, 3, 3, 3, 5, 3, 3, 3, 3, 0, 3, 3, 3, 5, 2, 3, 3, 3, 0, 2, 3, 3, 3, 0, 5, 3, 3, 2, 0, 3, 3, 3, 3, 0, 5, 3, 3, 5, 3, 3, 3, 3, 3, 3, 0, 5, 3, 5, 3, 2, 3, 5, 3, 3, 3, 3, 5, 3, 3, 5, 3, 0, 3, 3, 3, 3, 0, 3, 3, 3, 0, 3, 3, 3, 5, 3, 0, 3, 0, 3, 3, 5, 5, 0, 5, 3, 5, 3, 3, 3, 12, 6, 9, 10, 5, 6, 4, 4, 6, 5, 4, 9, 3, 9, 7, 8, 9, 6, 2, 4, 10, 1, 10, 6, 10, 5, 9, 10, 10, 9, 10, 10, 3, 8, 1, 11, 10, 2, 11, 10, 1, 10, 16, 5, 5, 5, 11, 10, 10, 9, 5, 10, 5, 8, 5, 7, 9, 10, 6, 10, 2, 9, 2, 0, 1, 8, 4, 4, 6, 11, 1, 10, 4, 3, 5, 8, 10, 9, 0, 3, 10, 7, 2, 10, 5, 1, 3, 1, 3, 10, 11, 3, 8, 4, 8, 7, 1, 10, 1, 5, 3, 1, 3, 6, 2, 4, 0, 4, 5, 2, 2, 3, 2, 4, 2, 2, 1, 1, 1, 1, 1, 1, 2, 3, 1, 3, 5, 2, 0, 3, 6, 2, 2, 0, 2, 4, 8, 3, 4, 4, 1, 3, 1, 4, 4, 0, 0, 2, 1, 6, 4, 4, 1, 4, 2, 4, 3, 4, 5, 0, 2, 2, 0, 4, 5, 4, 4, 3, 4, 0, 4, 3, 7, 4, 1, 3, 3, 3, 0, 1, 0, 1, 4, 2, 3, 2, 2, 1, 5, 0, 3, 3, 3, 0, 1, 4, 3, 4, 1]\n",
      "[48, 16, 57, 78, 39, 68, 20, 31, 63, 79, 34, 42, 50, 40, 21, 44, 61, 43, 5, 44, 75, 75, 36, 59, 19, 67, 74, 5, 57, 14, 35, 28, 6, 10, 39, 33, 65, 46, 35, 22, 46, 7, 23, 33, 59, 46, 44, 45, 48, 31, 30, 20, 36, 77, 46, 45, 75, 44, 36, 45, 12, 5, 64, 27, 19, 18, 38, 46, 2, 10, 50, 43, 62, 11, 15, 34, 53, 20, 50, 3, 40, 15, 34, 36, 71, 23, 10, 68, 4, 4, 28, 20, 54, 44, 36, 50, 40, 30, 73, 23, 58, 44, 46, 17, 54, 65, 75, 28, 36]\n"
     ]
    }
   ],
   "source": [
    "or_im_idx = 6\n",
    "mod_from_im_distances = []\n",
    "another_or_im_distances = []\n",
    "\n",
    "for mod_im in mod_im_hashes[or_im_idx]:\n",
    "    mod_from_im_distances.append(hamming_dist(mod_im, or_im_hashes[or_im_idx]))\n",
    "\n",
    "for another_idx, another_or_im in enumerate(or_im_hashes):\n",
    "    if another_idx != or_im_idx:\n",
    "        another_or_im_distances.append(hamming_dist(another_or_im, or_im_hashes[or_im_idx]))\n",
    "    \n",
    "\n",
    "print(np.mean(mod_from_im_distances), np.std(mod_from_im_distances))\n",
    "print(np.mean(another_or_im_distances), np.std(another_or_im_distances))\n",
    "print(\"---\")\n",
    "print(mod_from_im_distances)\n",
    "print(another_or_im_distances)"
   ]
  },
  {
   "cell_type": "code",
   "execution_count": 5,
   "id": "e1a0450c",
   "metadata": {},
   "outputs": [
    {
     "data": {
      "text/plain": [
       "array([[0.24313725, 0.17647059, 0.18431373, ..., 0.50196078, 0.4745098 ,\n",
       "        0.47058824],\n",
       "       [0.07843137, 0.        , 0.02745098, ..., 0.32156863, 0.30196078,\n",
       "        0.32156863],\n",
       "       [0.09019608, 0.02352941, 0.09411765, ..., 0.30588235, 0.30588235,\n",
       "        0.26666667],\n",
       "       ...,\n",
       "       [0.59607843, 0.48235294, 0.49019608, ..., 0.45882353, 0.10588235,\n",
       "        0.1254902 ],\n",
       "       [0.51372549, 0.40784314, 0.45098039, ..., 0.53333333, 0.22745098,\n",
       "        0.2       ],\n",
       "       [0.54509804, 0.48235294, 0.50980392, ..., 0.68235294, 0.43921569,\n",
       "        0.35294118]])"
      ]
     },
     "execution_count": 5,
     "metadata": {},
     "output_type": "execute_result"
    }
   ],
   "source": [
    "or_im[0]"
   ]
  },
  {
   "cell_type": "code",
   "execution_count": 6,
   "id": "a913e230",
   "metadata": {},
   "outputs": [
    {
     "data": {
      "text/plain": [
       "array([1., 0., 1., 1., 1., 1., 0., 1., 0., 1., 1., 0., 0., 1., 1., 1., 0.,\n",
       "       0., 1., 0., 0., 0., 1., 0., 1., 1., 1., 1., 0., 0., 0., 1., 0., 1.,\n",
       "       1., 1., 1., 1., 0., 1., 0., 1., 1., 0., 1., 0., 0., 0., 1., 0., 1.,\n",
       "       1., 1., 0., 1., 1., 1., 1., 1., 1., 1., 1., 1., 1., 1., 0., 0., 0.,\n",
       "       0., 0., 0., 0., 0., 0., 1., 0., 1., 0., 0., 0., 0., 1., 0., 0., 0.,\n",
       "       1., 0., 0., 1., 1., 1., 0., 1., 0., 1., 0., 0., 1., 0., 0., 1., 0.,\n",
       "       1., 0., 0., 1., 1., 0., 0., 0., 0., 1., 1., 0., 0., 1., 1., 0., 0.,\n",
       "       0., 1., 1., 1., 1., 1., 1., 1., 1.], dtype=float32)"
      ]
     },
     "execution_count": 6,
     "metadata": {},
     "output_type": "execute_result"
    }
   ],
   "source": [
    "or_im_hashes[0]"
   ]
  },
  {
   "cell_type": "code",
   "execution_count": null,
   "id": "6b6c7603",
   "metadata": {},
   "outputs": [],
   "source": []
  }
 ],
 "metadata": {
  "kernelspec": {
   "display_name": "Python 3 (ipykernel)",
   "language": "python",
   "name": "python3"
  },
  "language_info": {
   "codemirror_mode": {
    "name": "ipython",
    "version": 3
   },
   "file_extension": ".py",
   "mimetype": "text/x-python",
   "name": "python",
   "nbconvert_exporter": "python",
   "pygments_lexer": "ipython3",
   "version": "3.9.12"
  }
 },
 "nbformat": 4,
 "nbformat_minor": 5
}
